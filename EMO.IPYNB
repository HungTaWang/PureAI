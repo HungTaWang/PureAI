{
 "cells": [
  {
   "cell_type": "markdown",
   "id": "9286b9c7",
   "metadata": {},
   "source": [
    "# 表情分析"
   ]
  },
  {
   "cell_type": "code",
   "execution_count": 12,
   "id": "97341e39",
   "metadata": {},
   "outputs": [
    {
     "data": {
      "application/vnd.jupyter.widget-view+json": {
       "model_id": "68cded1bb21841679027a937840a5bc5",
       "version_major": 2,
       "version_minor": 0
      },
      "text/plain": [
       "Epoch 1/5 - train:   0%|          | 0/265 [00:00<?, ?it/s]"
      ]
     },
     "metadata": {},
     "output_type": "display_data"
    },
    {
     "data": {
      "application/vnd.jupyter.widget-view+json": {
       "model_id": "0ae7859980f340519968b82aef042f70",
       "version_major": 2,
       "version_minor": 0
      },
      "text/plain": [
       "Epoch 1/5 - val  :   0%|          | 0/67 [00:00<?, ?it/s]"
      ]
     },
     "metadata": {},
     "output_type": "display_data"
    },
    {
     "name": "stdout",
     "output_type": "stream",
     "text": [
      "Epoch 1: train_acc=0.9889 val_acc=0.9967\n"
     ]
    },
    {
     "data": {
      "application/vnd.jupyter.widget-view+json": {
       "model_id": "f980d4015c9b4d3fa386225c1d498c3b",
       "version_major": 2,
       "version_minor": 0
      },
      "text/plain": [
       "Epoch 2/5 - train:   0%|          | 0/265 [00:00<?, ?it/s]"
      ]
     },
     "metadata": {},
     "output_type": "display_data"
    },
    {
     "data": {
      "application/vnd.jupyter.widget-view+json": {
       "model_id": "7c92544e92e741299069bd2426808936",
       "version_major": 2,
       "version_minor": 0
      },
      "text/plain": [
       "Epoch 2/5 - val  :   0%|          | 0/67 [00:00<?, ?it/s]"
      ]
     },
     "metadata": {},
     "output_type": "display_data"
    },
    {
     "name": "stdout",
     "output_type": "stream",
     "text": [
      "Epoch 2: train_acc=0.9988 val_acc=0.9976\n"
     ]
    },
    {
     "data": {
      "application/vnd.jupyter.widget-view+json": {
       "model_id": "95c67395c634409ea4c7e9f5bba2c96c",
       "version_major": 2,
       "version_minor": 0
      },
      "text/plain": [
       "Epoch 3/5 - train:   0%|          | 0/265 [00:00<?, ?it/s]"
      ]
     },
     "metadata": {},
     "output_type": "display_data"
    },
    {
     "data": {
      "application/vnd.jupyter.widget-view+json": {
       "model_id": "6200583cfb4640cdb4ec36d4465da68b",
       "version_major": 2,
       "version_minor": 0
      },
      "text/plain": [
       "Epoch 3/5 - val  :   0%|          | 0/67 [00:00<?, ?it/s]"
      ]
     },
     "metadata": {},
     "output_type": "display_data"
    },
    {
     "name": "stdout",
     "output_type": "stream",
     "text": [
      "Epoch 3: train_acc=0.9991 val_acc=0.9958\n"
     ]
    },
    {
     "data": {
      "application/vnd.jupyter.widget-view+json": {
       "model_id": "f067aa35e03a4766a9817586827073e5",
       "version_major": 2,
       "version_minor": 0
      },
      "text/plain": [
       "Epoch 4/5 - train:   0%|          | 0/265 [00:00<?, ?it/s]"
      ]
     },
     "metadata": {},
     "output_type": "display_data"
    },
    {
     "data": {
      "application/vnd.jupyter.widget-view+json": {
       "model_id": "69b55c6868fa43b4b07ca851792452fe",
       "version_major": 2,
       "version_minor": 0
      },
      "text/plain": [
       "Epoch 4/5 - val  :   0%|          | 0/67 [00:00<?, ?it/s]"
      ]
     },
     "metadata": {},
     "output_type": "display_data"
    },
    {
     "name": "stdout",
     "output_type": "stream",
     "text": [
      "Epoch 4: train_acc=0.9988 val_acc=0.9972\n"
     ]
    },
    {
     "data": {
      "application/vnd.jupyter.widget-view+json": {
       "model_id": "0acf389944cd4f6388f850820b8426aa",
       "version_major": 2,
       "version_minor": 0
      },
      "text/plain": [
       "Epoch 5/5 - train:   0%|          | 0/265 [00:00<?, ?it/s]"
      ]
     },
     "metadata": {},
     "output_type": "display_data"
    },
    {
     "data": {
      "application/vnd.jupyter.widget-view+json": {
       "model_id": "6070e8cedf474915b205197d861c629e",
       "version_major": 2,
       "version_minor": 0
      },
      "text/plain": [
       "Epoch 5/5 - val  :   0%|          | 0/67 [00:00<?, ?it/s]"
      ]
     },
     "metadata": {},
     "output_type": "display_data"
    },
    {
     "name": "stdout",
     "output_type": "stream",
     "text": [
      "Epoch 5: train_acc=0.9998 val_acc=0.9972\n",
      "\n",
      " Best validation accuracy: 0.9976\n",
      "\n",
      "Classification report:\n",
      "              precision    recall  f1-score   support\n",
      "\n",
      "         Sad     1.0000    0.9949    0.9975       989\n",
      "       Happy     0.9956    1.0000    0.9978      1130\n",
      "\n",
      "    accuracy                         0.9976      2119\n",
      "   macro avg     0.9978    0.9975    0.9976      2119\n",
      "weighted avg     0.9977    0.9976    0.9976      2119\n",
      "\n"
     ]
    },
    {
     "data": {
      "image/png": "[encoded data removed]",
      "text/plain": [
       "<Figure size 500x400 with 2 Axes>"
      ]
     },
     "metadata": {},
     "output_type": "display_data"
    }
   ],
   "source": [
    "import os, copy, random\n",
    "import numpy as np\n",
    "import torch\n",
    "import torch.nn as nn\n",
    "from torch.utils.data import DataLoader, random_split\n",
    "from torchvision import datasets, transforms, models\n",
    "from sklearn.metrics import classification_report, confusion_matrix\n",
    "import seaborn as sns\n",
    "import matplotlib.pyplot as plt\n",
    "from tqdm.auto import tqdm\n",
    "\n",
    "data_dir      = \"emo\"\n",
    "batch_size    = 32\n",
    "img_size      = 224\n",
    "num_epochs    = 5\n",
    "lr            = 1e-4\n",
    "train_ratio   = 0.8\n",
    "seed          = 42\n",
    "device        = torch.device(\"cuda\" if torch.cuda.is_available() else \"cpu\")\n",
    "\n",
    "torch.manual_seed(seed)\n",
    "np.random.seed(seed)\n",
    "random.seed(seed)\n",
    "\n",
    "train_tf = transforms.Compose([\n",
    "    transforms.RandomResizedCrop(img_size, scale=(0.8, 1.0)),\n",
    "    transforms.RandomHorizontalFlip(),\n",
    "    transforms.ToTensor(),\n",
    "    transforms.Normalize([0.485,0.456,0.406], [0.229,0.224,0.225])\n",
    "])\n",
    "val_tf = transforms.Compose([\n",
    "    transforms.Resize(int(img_size*1.1)),\n",
    "    transforms.CenterCrop(img_size),\n",
    "    transforms.ToTensor(),\n",
    "    transforms.Normalize([0.485,0.456,0.406], [0.229,0.224,0.225])\n",
    "])\n",
    "\n",
    "full_dataset = datasets.ImageFolder(root=data_dir, transform=train_tf)\n",
    "orig_classes = full_dataset.classes\n",
    "full_dataset.targets = [1 if orig_classes[t].lower().startswith('happy') else 0 for t in full_dataset.targets]\n",
    "class_names  = [\"Sad\", \"Happy\"]\n",
    "num_classes  = 2\n",
    "\n",
    "n_train = int(len(full_dataset)*train_ratio)\n",
    "n_val   = len(full_dataset) - n_train\n",
    "train_ds, val_ds = random_split(\n",
    "    full_dataset,\n",
    "    [n_train, n_val],\n",
    "    generator=torch.Generator().manual_seed(seed)\n",
    ")\n",
    "\n",
    "train_ds.dataset.transform = train_tf\n",
    "val_ds.dataset.transform   = val_tf\n",
    "\n",
    "train_loader = DataLoader(train_ds, batch_size=batch_size, shuffle=True,  num_workers=0, pin_memory=True)\n",
    "val_loader   = DataLoader(val_ds,   batch_size=batch_size, shuffle=False, num_workers=0, pin_memory=True)\n",
    "\n",
    "model = models.resnet18(weights=\"IMAGENET1K_V1\")\n",
    "model.fc = nn.Linear(model.fc.in_features, num_classes)\n",
    "model = model.to(device)\n",
    "\n",
    "criterion = nn.CrossEntropyLoss()\n",
    "optimizer = torch.optim.AdamW(model.parameters(), lr=lr)\n",
    "best_acc  = 0\n",
    "best_wts  = copy.deepcopy(model.state_dict())\n",
    "\n",
    "for epoch in range(1, num_epochs+1):\n",
    "    model.train()\n",
    "    train_loss, train_correct = 0.0, 0\n",
    "    for x, y in tqdm(train_loader, desc=f\"Epoch {epoch}/{num_epochs} - train\"):\n",
    "        x, y = x.to(device, non_blocking=True), y.to(device, non_blocking=True)\n",
    "        optimizer.zero_grad()\n",
    "        out = model(x)\n",
    "        loss = criterion(out, y)\n",
    "        loss.backward()\n",
    "        optimizer.step()\n",
    "        train_loss += loss.item()*x.size(0)\n",
    "        train_correct += (out.argmax(1)==y).sum().item()\n",
    "\n",
    "    model.eval()\n",
    "    val_loss, val_correct = 0.0, 0\n",
    "    preds_all, labels_all = [], []\n",
    "    with torch.no_grad():\n",
    "        for x, y in tqdm(val_loader, desc=f\"Epoch {epoch}/{num_epochs} - val  \"):\n",
    "            x, y = x.to(device, non_blocking=True), y.to(device, non_blocking=True)\n",
    "            out = model(x)\n",
    "            loss = criterion(out, y)\n",
    "            val_loss += loss.item()*x.size(0)\n",
    "            val_correct += (out.argmax(1)==y).sum().item()\n",
    "            preds_all.append(out.argmax(1).cpu())\n",
    "            labels_all.append(y.cpu())\n",
    "    val_acc  = val_correct / len(val_ds)\n",
    "    train_acc= train_correct / len(train_ds)\n",
    "    print(f\"Epoch {epoch}: train_acc={train_acc:.4f} val_acc={val_acc:.4f}\")\n",
    "\n",
    "    if val_acc > best_acc:\n",
    "        best_acc = val_acc\n",
    "        best_wts = copy.deepcopy(model.state_dict())\n",
    "\n",
    "torch.save(best_wts, \"best_happy_sad_resnet18.pth\")\n",
    "print(f\"\\n Best validation accuracy: {best_acc:.4f}\")\n",
    "\n",
    "model.load_state_dict(best_wts)\n",
    "model.eval()\n",
    "preds_all, labels_all = [], []\n",
    "with torch.no_grad():\n",
    "    for x, y in val_loader:\n",
    "        preds_all.append(model(x.to(device)).argmax(1).cpu())\n",
    "        labels_all.append(y)\n",
    "preds_all   = torch.cat(preds_all).numpy()\n",
    "labels_all  = torch.cat(labels_all).numpy()\n",
    "\n",
    "print(\"\\nClassification report:\")\n",
    "print(classification_report(labels_all, preds_all, target_names=class_names, digits=4))\n",
    "\n",
    "cm = confusion_matrix(labels_all, preds_all)\n",
    "plt.figure(figsize=(5,4))\n",
    "sns.heatmap(cm, annot=True, fmt=\"d\", cmap=\"Blues\",\n",
    "            xticklabels=class_names, yticklabels=class_names)\n",
    "plt.xlabel(\"Predicted\"); plt.ylabel(\"True\"); plt.title(\"Confusion Matrix\")\n",
    "plt.tight_layout(); plt.show()\n"
   ]
  },
  {
   "cell_type": "markdown",
   "id": "580002ac",
   "metadata": {},
   "source": [
    "# 語意分析"
   ]
  },
  {
   "cell_type": "code",
   "execution_count": 9,
   "id": "3f421bb0",
   "metadata": {},
   "outputs": [
    {
     "name": "stdout",
     "output_type": "stream",
     "text": [
      "Count of class: \n",
      "sentiment\n",
      "Happy    29617\n",
      "Sad       2533\n",
      "Name: count, dtype: int64\n",
      "Count of class:  Counter({' Happy': 29617, ' Sad': 2533}) \n",
      "\n",
      "After RandomOverSampler:  Counter({1: 29617, 0: 29617}) \n",
      "\n",
      "=== Classification report ===\n",
      "              precision    recall  f1-score   support\n",
      "\n",
      "           0     0.9746    0.9993    0.9868      5924\n",
      "           1     0.9993    0.9740    0.9865      5923\n",
      "\n",
      "    accuracy                         0.9867     11847\n",
      "   macro avg     0.9870    0.9867    0.9867     11847\n",
      "weighted avg     0.9870    0.9867    0.9867     11847\n",
      "\n"
     ]
    },
    {
     "data": {
      "image/png": "[encoded data removed]",
      "text/plain": [
       "<Figure size 640x480 with 2 Axes>"
      ]
     },
     "metadata": {},
     "output_type": "display_data"
    }
   ],
   "source": [
    "from pathlib import Path\n",
    "import pandas as pd\n",
    "import numpy as np\n",
    "from sklearn.model_selection import train_test_split, StratifiedKFold, cross_val_score\n",
    "from sklearn.feature_extraction.text import TfidfVectorizer\n",
    "from sklearn.pipeline import make_pipeline\n",
    "from sklearn.svm import LinearSVC\n",
    "from sklearn.metrics import (\n",
    "    classification_report, confusion_matrix, ConfusionMatrixDisplay,\n",
    "    roc_curve, auc\n",
    ")\n",
    "import matplotlib.pyplot as plt\n",
    "import joblib\n",
    "import seaborn as sns\n",
    "from imblearn.over_sampling import RandomOverSampler\n",
    "from collections import Counter\n",
    "\n",
    "df = pd.read_csv(\"topical_chat.csv\").drop(columns=\"conversation_id\", axis=1)\n",
    "sent_clean = df[\"sentiment\"].astype(str).str.strip().str.lower()\n",
    "targets = [\"sad\", \"sadness\", \"happy\", \"happiness\"]\n",
    "sad_happy_df = df[sent_clean.isin(targets)].reset_index(drop=True)\n",
    "\n",
    "print(\"Count of class: \")\n",
    "print(sad_happy_df[\"sentiment\"].value_counts())\n",
    "\n",
    "output_file = \"sad_happy_subset.csv\"\n",
    "sad_happy_df.to_csv(output_file, index=False)\n",
    "\n",
    "df = pd.read_csv(\"sad_happy_subset.csv\")\n",
    "\n",
    "print(\"Count of class: \", Counter(df[\"sentiment\"]), \"\\n\")\n",
    "\n",
    "ros = RandomOverSampler(random_state=42)\n",
    "X_res, y_res = ros.fit_resample(sad_happy_df[[\"message\"]], sad_happy_df[\"sentiment\"])\n",
    "df_ros = pd.concat([X_res, y_res], axis=1)\n",
    "\n",
    "df_ros[\"sentiment\"] = (\n",
    "    df_ros[\"sentiment\"]\n",
    "    .str.strip()\n",
    "    .str.lower()\n",
    "    .replace({\"happiness\": \"happy\", \"sadness\": \"sad\"})\n",
    "    .map({\"happy\": 1, \"sad\": 0})\n",
    "    .astype(int)\n",
    ")\n",
    "\n",
    "print(\"After RandomOverSampler: \", Counter(df_ros[\"sentiment\"]), \"\\n\")\n",
    "\n",
    "X_train, X_test, y_train, y_test = train_test_split(\n",
    "    df_ros[\"message\"],\n",
    "    df_ros[\"sentiment\"],\n",
    "    test_size=0.2,\n",
    "    stratify=df_ros[\"sentiment\"],\n",
    "    random_state=42\n",
    ")\n",
    "\n",
    "pipe = make_pipeline(\n",
    "    TfidfVectorizer(\n",
    "        ngram_range=(1, 2),\n",
    "        min_df=2,\n",
    "        max_df=0.95,\n",
    "        sublinear_tf=True\n",
    "    ),\n",
    "    LinearSVC()\n",
    ")\n",
    "\n",
    "pipe.fit(X_train, y_train)\n",
    "y_pred = pipe.predict(X_test)\n",
    "\n",
    "print(\"=== Classification report ===\")\n",
    "print(classification_report(y_test, y_pred, digits=4))\n",
    "\n",
    "classes = np.unique(np.concatenate([y_test, y_pred]))\n",
    "cm = confusion_matrix(y_test, y_pred, labels=classes)\n",
    "\n",
    "disp = ConfusionMatrixDisplay(confusion_matrix=cm, display_labels=classes)\n",
    "disp.plot(cmap=\"Blues\")\n",
    "plt.title(\"Confusion Matrix (Test set)\")\n",
    "plt.tight_layout()\n",
    "plt.show()\n"
   ]
  }
 ],
 "metadata": {
  "kernelspec": {
   "display_name": "Python 3",
   "language": "python",
   "name": "python3"
  },
  "language_info": {
   "codemirror_mode": {
    "name": "ipython",
    "version": 3
   },
   "file_extension": ".py",
   "mimetype": "text/x-python",
   "name": "python",
   "nbconvert_exporter": "python",
   "pygments_lexer": "ipython3",
   "version": "3.10.6"
  }
 },
 "nbformat": 4,
 "nbformat_minor": 5
}
